{
 "cells": [
  {
   "cell_type": "code",
   "execution_count": 86,
   "metadata": {},
   "outputs": [],
   "source": [
    "import numpy as np\n",
    "import math\n",
    "#from numpy import cos,sin\n",
    "from math import cos,sin\n",
    "import matplotlib.pyplot as plt"
   ]
  },
  {
   "cell_type": "code",
   "execution_count": 65,
   "metadata": {},
   "outputs": [],
   "source": [
    "def RotX(theta):\n",
    "    theta = np.deg2rad(theta)\n",
    "    mat =  np.array([[1,0,0,0],\n",
    "                    [0, cos(theta),-sin(theta),0],\n",
    "                    [0, sin(theta),cos(theta), 0],\n",
    "                    [0,0,0,1]])\n",
    "    return mat\n",
    "\n",
    "def RotY(theta):\n",
    "    theta = np.deg2rad(theta)\n",
    "    mat =  np.array([[cos(theta),0,sin(theta),0],\n",
    "                    [0,1,0,0],\n",
    "                    [-sin(theta),0,cos(theta),0],\n",
    "                    [0,0,0,1]])\n",
    "    return mat\n",
    "\n",
    "def RotZ(theta):\n",
    "    theta = np.deg2rad(theta)\n",
    "    mat =  np.array([[cos(theta),-sin(theta),0,0],\n",
    "                    [sin(theta),cos(theta),0,0],\n",
    "                    [0,0,1,0],\n",
    "                    [0,0,0,1]])\n",
    "    return mat\n",
    "\n",
    "def Trans(x,y,z):\n",
    "    mat = np.array([[1,0,0,x],\n",
    "                    [0,1,0,y],\n",
    "                    [0,0,1,z],\n",
    "                    [0,0,0,1]])\n",
    "    return mat"
   ]
  },
  {
   "cell_type": "code",
   "execution_count": 81,
   "metadata": {},
   "outputs": [
    {
     "data": {
      "text/plain": [
       "array([[ 1.000000e+00,  0.000000e+00,  0.000000e+00,  0.000000e+00],\n",
       "       [ 0.000000e+00,  6.123234e-17, -1.000000e+00,  0.000000e+00],\n",
       "       [ 0.000000e+00,  1.000000e+00,  6.123234e-17,  0.000000e+00],\n",
       "       [ 0.000000e+00,  0.000000e+00,  0.000000e+00,  1.000000e+00]])"
      ]
     },
     "execution_count": 81,
     "metadata": {},
     "output_type": "execute_result"
    }
   ],
   "source": [
    "ans = RotX(90)   #Given in Radius\n",
    "ans"
   ]
  },
  {
   "cell_type": "code",
   "execution_count": 82,
   "metadata": {},
   "outputs": [
    {
     "name": "stdout",
     "output_type": "stream",
     "text": [
      "[[ 0.70710678  0.          0.70710678  0.        ]\n",
      " [ 0.          1.          0.          0.        ]\n",
      " [-0.70710678  0.          0.70710678  0.        ]\n",
      " [ 0.          0.          0.          1.        ]]\n"
     ]
    }
   ],
   "source": [
    "print(RotY(45))  #Given in Radius"
   ]
  },
  {
   "cell_type": "code",
   "execution_count": 84,
   "metadata": {},
   "outputs": [
    {
     "name": "stdout",
     "output_type": "stream",
     "text": [
      "[[ 0.70710678  0.         -0.70710678  0.        ]\n",
      " [ 0.          1.          0.          0.        ]\n",
      " [ 0.70710678  0.          0.70710678  0.        ]\n",
      " [ 0.          0.          0.          1.        ]]\n"
     ]
    }
   ],
   "source": [
    "transp_x = np.transpose(RotY(45))\n",
    "print(transp_x)"
   ]
  },
  {
   "cell_type": "code",
   "execution_count": 97,
   "metadata": {},
   "outputs": [
    {
     "data": {
      "image/png": "[encoded data removed]",
      "text/plain": [
       "<Figure size 640x480 with 1 Axes>"
      ]
     },
     "metadata": {},
     "output_type": "display_data"
    }
   ],
   "source": [
    "l1 = 1.5\n",
    "l2 = 1.2\n",
    "theta1 = np.deg2rad(25); theta2 = np.deg2rad(15)\n",
    "pts = np.array([[0, l1*cos(theta1), (l1*cos(theta1))+(l2*cos(theta1+ theta2))] ,\n",
    "                [0, l1*sin(theta1), (l1*sin(theta1))+(l2*sin(theta1+theta2))]\n",
    "            ])\n",
    "\n",
    "plt.xlim(0,3)\n",
    "plt.ylim(0,3)\n",
    "plt.plot(pts[0,:],pts[1,:])\n",
    "plt.show()"
   ]
  }
 ],
 "metadata": {
  "kernelspec": {
   "display_name": "Python 3",
   "language": "python",
   "name": "python3"
  },
  "language_info": {
   "codemirror_mode": {
    "name": "ipython",
    "version": 3
   },
   "file_extension": ".py",
   "mimetype": "text/x-python",
   "name": "python",
   "nbconvert_exporter": "python",
   "pygments_lexer": "ipython3",
   "version": "3.10.12"
  }
 },
 "nbformat": 4,
 "nbformat_minor": 2
}
